{
  "cells": [
    {
      "cell_type": "markdown",
      "metadata": {
        "id": "view-in-github",
        "colab_type": "text"
      },
      "source": [
        "<a href=\"https://colab.research.google.com/github/pabondaniel/Diplomado_Ciencia_Datos/blob/main/Tarea_2.ipynb\" target=\"_parent\"><img src=\"https://colab.research.google.com/assets/colab-badge.svg\" alt=\"Open In Colab\"/></a>"
      ]
    },
    {
      "cell_type": "markdown",
      "id": "91d753d4-b53c-451a-b567-42fed7d47abf",
      "metadata": {
        "id": "91d753d4-b53c-451a-b567-42fed7d47abf"
      },
      "source": [
        "<figure>\n",
        "<img src=\"https://www.inventateq.com/c_images/machine-banner_mobile.png\"  width=\"80\" height=\"80\" align=\"left\"/>\n",
        "</figure>\n",
        "\n",
        "# <span style=\"color:#E6512A\"><left>Varianza Muestral</left></span>"
      ]
    },
    {
      "cell_type": "markdown",
      "id": "332e06e9-fad8-496b-8c73-d941187a6d3c",
      "metadata": {
        "id": "332e06e9-fad8-496b-8c73-d941187a6d3c"
      },
      "source": [
        "## <span style=\"color:#E6512A\">Daniel Pabón Almanza</span>"
      ]
    },
    {
      "cell_type": "markdown",
      "id": "2e43295e-2d51-4ed9-85aa-05ee266fb9fe",
      "metadata": {
        "id": "2e43295e-2d51-4ed9-85aa-05ee266fb9fe"
      },
      "source": [
        "Mi nombre es **Daniel Pabón Almanza**. Tengo 25 años, soy ingeniero industrial de la Universidad de los Andes y me encuentro trabajando como *Ingeniero de Business Intelligence* dentro de la compañía Falabella de Colombia S.A.\n",
        "\n",
        "Dentro de mi trabajo he tenido la oportunidad de aprender SQL y el uso de BigQuery, tengo algunas bases de R de la Universidad pero tengo interés en aprender más sobre la **Ciencia de Datos** y el manejo de **Python**.\n",
        "<figure>\n",
        "<img src=\"https://media.licdn.com/dms/image/C4E03AQFepicXSzBWAA/profile-displayphoto-shrink_200_200/0/1613958832998?e=1696464000&v=beta&t=2CYZYEHpReJo_jFW_zRDiFS2fGO6tNYzOHmXO6FZZ8g\" width=\"180\" align=\"left\" />   \n",
        "</figure>\n"
      ]
    },
    {
      "cell_type": "markdown",
      "id": "e6b95ff1-5b28-40cf-8d35-22ff96ad114e",
      "metadata": {
        "id": "e6b95ff1-5b28-40cf-8d35-22ff96ad114e"
      },
      "source": [
        "## <span style=\"color:#E6512A\">La Varianza Muestral</span>"
      ]
    },
    {
      "cell_type": "markdown",
      "id": "748d7496-d2bb-4c57-ada9-646bf3bc14d8",
      "metadata": {
        "id": "748d7496-d2bb-4c57-ada9-646bf3bc14d8"
      },
      "source": [
        "Según la [Universidad Nacional](http://red.unal.edu.co/cursos/ciencias/2001065/html/un1/cont_130_30.html), la varianza muestral se puede definir como el \"casi promedio\" de los cuadrados de las desviaciones de los datos con respecto a la media muestral."
      ]
    },
    {
      "cell_type": "markdown",
      "id": "1ea7e129-7472-4a34-aae0-b1309bf2d583",
      "metadata": {
        "id": "1ea7e129-7472-4a34-aae0-b1309bf2d583"
      },
      "source": [
        "Su fórmula matemática para el caso de una muestra es la siguiente:\n",
        "\n",
        "$$\n",
        "Var[X] = s_x^2 = \\frac{\\sum_{i}(x_i- \\bar{x})^2}{n-1}\n",
        "$$"
      ]
    },
    {
      "cell_type": "markdown",
      "id": "8f1a15a8-e09b-43d5-b8a0-df7622ede907",
      "metadata": {
        "id": "8f1a15a8-e09b-43d5-b8a0-df7622ede907"
      },
      "source": [
        "Mientras que para edatos de una población es:\n",
        "\n",
        "$$\n",
        "Var[X] = \\sigma_x^2 = \\frac{\\sum_{i}(x_i- \\mu_X)^2}{N}\n",
        "$$"
      ]
    },
    {
      "cell_type": "markdown",
      "id": "eea2b86d-4345-4c9c-bbfa-4a59873ade21",
      "metadata": {
        "id": "eea2b86d-4345-4c9c-bbfa-4a59873ade21"
      },
      "source": [
        "### <span style=\"color:#E6512A\">Propiedades de la varianza</span>\n"
      ]
    },
    {
      "cell_type": "markdown",
      "id": "1a89ac22-07b4-4672-bed2-8bb38e44890c",
      "metadata": {
        "id": "1a89ac22-07b4-4672-bed2-8bb38e44890c"
      },
      "source": [
        "1. La varianza de una constante es cero\n",
        "2. Si se tiene la varianza  de de un conjunto de datos $s^2$ y a cada observación se le multiplica por una constante $b$, entonces la nueva varianza de los datos se obtiene multiplicando a la varianza de los datos por $b^2$."
      ]
    },
    {
      "cell_type": "markdown",
      "id": "b57e1743-1b4b-4bf9-8255-a8e03800d1f6",
      "metadata": {
        "id": "b57e1743-1b4b-4bf9-8255-a8e03800d1f6"
      },
      "source": [
        "### <span style=\"color:#E6512A\">Ejemplos</span>\n"
      ]
    },
    {
      "cell_type": "code",
      "execution_count": null,
      "id": "e6c7da03-0c16-4593-a530-f041814dbb71",
      "metadata": {
        "id": "e6c7da03-0c16-4593-a530-f041814dbb71",
        "outputId": "7492b155-8ae5-4ef3-88fb-cc443b040884"
      },
      "outputs": [
        {
          "name": "stdout",
          "output_type": "stream",
          "text": [
            "Collecting package metadata (current_repodata.json): ...working... done\n",
            "Solving environment: ...working... done\n",
            "\n",
            "# All requested packages already installed.\n",
            "\n"
          ]
        },
        {
          "name": "stderr",
          "output_type": "stream",
          "text": [
            "\n",
            "\n",
            "==> WARNING: A newer version of conda exists. <==\n",
            "  current version: 4.12.0\n",
            "  latest version: 23.7.2\n",
            "\n",
            "Please update conda by running\n",
            "\n",
            "    $ conda update -n base -c defaults conda\n",
            "\n",
            "\n"
          ]
        }
      ],
      "source": [
        "#Instalación de paquetes\n",
        "!conda install numpy"
      ]
    },
    {
      "cell_type": "code",
      "execution_count": null,
      "id": "e3337be2-95db-401e-8e3b-29d610b76aa3",
      "metadata": {
        "id": "e3337be2-95db-401e-8e3b-29d610b76aa3"
      },
      "outputs": [],
      "source": [
        "#Importado de paquetes\n",
        "import numpy as np"
      ]
    },
    {
      "cell_type": "code",
      "execution_count": null,
      "id": "daa2fb62-8de7-44ab-bc5d-439d8ca648cb",
      "metadata": {
        "id": "daa2fb62-8de7-44ab-bc5d-439d8ca648cb",
        "outputId": "419342ed-86c3-4c3e-832f-25b1e5ea07fa"
      },
      "outputs": [
        {
          "name": "stdout",
          "output_type": "stream",
          "text": [
            "2.0\n"
          ]
        }
      ],
      "source": [
        "#Varianza de una muestra\n",
        "a=[1,2,3,4,5]\n",
        "print(np.var(a))"
      ]
    },
    {
      "cell_type": "code",
      "execution_count": null,
      "id": "68197269-a423-476b-be1c-a18f2e3a9aaf",
      "metadata": {
        "id": "68197269-a423-476b-be1c-a18f2e3a9aaf",
        "outputId": "87c4fdbd-a7a0-41c7-9e1e-a178e62edd15"
      },
      "outputs": [
        {
          "data": {
            "text/plain": [
              "0.0"
            ]
          },
          "execution_count": 28,
          "metadata": {},
          "output_type": "execute_result"
        }
      ],
      "source": [
        "#Varianza de una constante\n",
        "np.var([1,1,1])"
      ]
    },
    {
      "cell_type": "markdown",
      "id": "fbaf17bc-ffc8-48ee-b658-11141af273f3",
      "metadata": {
        "id": "fbaf17bc-ffc8-48ee-b658-11141af273f3"
      },
      "source": [
        "## <span style=\"color:#E6512A\">Referencias</span>"
      ]
    },
    {
      "cell_type": "markdown",
      "id": "63ce80ee-2b2d-4567-a0ac-dfe8f5123f29",
      "metadata": {
        "id": "63ce80ee-2b2d-4567-a0ac-dfe8f5123f29"
      },
      "source": [
        "* Medidas de variabilidad (http://red.unal.edu.co/cursos/ciencias/2001065/html/un1/cont_130_30.html)\n",
        "* ¿Cómo calcular la varianza en Python? (https://how.okpedia.org/es/python/como-calcular-la-varianza-en-python)"
      ]
    },
    {
      "cell_type": "code",
      "execution_count": null,
      "id": "42d18c61-0795-444d-985b-2c6a7fa92c0d",
      "metadata": {
        "id": "42d18c61-0795-444d-985b-2c6a7fa92c0d"
      },
      "outputs": [],
      "source": []
    }
  ],
  "metadata": {
    "kernelspec": {
      "display_name": "Python 3 (ipykernel)",
      "language": "python",
      "name": "python3"
    },
    "language_info": {
      "codemirror_mode": {
        "name": "ipython",
        "version": 3
      },
      "file_extension": ".py",
      "mimetype": "text/x-python",
      "name": "python",
      "nbconvert_exporter": "python",
      "pygments_lexer": "ipython3",
      "version": "3.9.12"
    },
    "colab": {
      "provenance": [],
      "include_colab_link": true
    }
  },
  "nbformat": 4,
  "nbformat_minor": 5
}